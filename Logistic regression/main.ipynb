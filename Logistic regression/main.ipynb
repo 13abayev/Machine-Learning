{
 "cells": [
  {
   "cell_type": "code",
   "execution_count": 2,
   "metadata": {},
   "outputs": [],
   "source": [
    "import pandas as pd\n",
    "import numpy as np\n",
    "from sklearn.model_selection import train_test_split\n",
    "from sklearn.linear_model import LogisticRegression\n",
    "from math import e\n",
    "import matplotlib.pyplot as plt"
   ]
  },
  {
   "cell_type": "code",
   "execution_count": 3,
   "metadata": {},
   "outputs": [],
   "source": [
    "df = pd.read_csv(\"data/titanic.csv\")\n",
    "df.drop([\"PassengerId\", \"Name\", \"Ticket\", \"Cabin\"], axis = 1,inplace=True)\n",
    "df = pd.get_dummies(df, columns=[\"Sex\", \"Embarked\"], drop_first=True)\n",
    "df.replace({True : 1, False : 0}, inplace=True)"
   ]
  },
  {
   "cell_type": "code",
   "execution_count": 4,
   "metadata": {},
   "outputs": [],
   "source": [
    "def converter(col):\n",
    "    col = col.split(\".\")\n",
    "    if len(col) > 2:\n",
    "        res = \"\".join(col[ : -1]) + \".\" + col[-1]\n",
    "    else:\n",
    "        res = \".\".join(col)\n",
    "    return float(res)\n",
    "\n",
    "df.Fare = df.Fare.apply(converter)"
   ]
  },
  {
   "cell_type": "code",
   "execution_count": 5,
   "metadata": {},
   "outputs": [
    {
     "data": {
      "text/html": [
       "<div>\n",
       "<style scoped>\n",
       "    .dataframe tbody tr th:only-of-type {\n",
       "        vertical-align: middle;\n",
       "    }\n",
       "\n",
       "    .dataframe tbody tr th {\n",
       "        vertical-align: top;\n",
       "    }\n",
       "\n",
       "    .dataframe thead th {\n",
       "        text-align: right;\n",
       "    }\n",
       "</style>\n",
       "<table border=\"1\" class=\"dataframe\">\n",
       "  <thead>\n",
       "    <tr style=\"text-align: right;\">\n",
       "      <th></th>\n",
       "      <th>Survived</th>\n",
       "      <th>Pclass</th>\n",
       "      <th>Age</th>\n",
       "      <th>SibSp</th>\n",
       "      <th>Parch</th>\n",
       "      <th>Fare</th>\n",
       "      <th>Sex_male</th>\n",
       "      <th>Embarked_Q</th>\n",
       "      <th>Embarked_S</th>\n",
       "    </tr>\n",
       "  </thead>\n",
       "  <tbody>\n",
       "    <tr>\n",
       "      <th>0</th>\n",
       "      <td>0</td>\n",
       "      <td>3</td>\n",
       "      <td>22.0</td>\n",
       "      <td>1</td>\n",
       "      <td>0</td>\n",
       "      <td>7.250</td>\n",
       "      <td>1</td>\n",
       "      <td>0</td>\n",
       "      <td>1</td>\n",
       "    </tr>\n",
       "    <tr>\n",
       "      <th>1</th>\n",
       "      <td>1</td>\n",
       "      <td>1</td>\n",
       "      <td>38.0</td>\n",
       "      <td>1</td>\n",
       "      <td>0</td>\n",
       "      <td>712.833</td>\n",
       "      <td>0</td>\n",
       "      <td>0</td>\n",
       "      <td>0</td>\n",
       "    </tr>\n",
       "    <tr>\n",
       "      <th>2</th>\n",
       "      <td>1</td>\n",
       "      <td>3</td>\n",
       "      <td>26.0</td>\n",
       "      <td>0</td>\n",
       "      <td>0</td>\n",
       "      <td>7.925</td>\n",
       "      <td>0</td>\n",
       "      <td>0</td>\n",
       "      <td>1</td>\n",
       "    </tr>\n",
       "    <tr>\n",
       "      <th>3</th>\n",
       "      <td>1</td>\n",
       "      <td>1</td>\n",
       "      <td>35.0</td>\n",
       "      <td>1</td>\n",
       "      <td>0</td>\n",
       "      <td>53.100</td>\n",
       "      <td>0</td>\n",
       "      <td>0</td>\n",
       "      <td>1</td>\n",
       "    </tr>\n",
       "    <tr>\n",
       "      <th>4</th>\n",
       "      <td>0</td>\n",
       "      <td>3</td>\n",
       "      <td>35.0</td>\n",
       "      <td>0</td>\n",
       "      <td>0</td>\n",
       "      <td>8.050</td>\n",
       "      <td>1</td>\n",
       "      <td>0</td>\n",
       "      <td>1</td>\n",
       "    </tr>\n",
       "  </tbody>\n",
       "</table>\n",
       "</div>"
      ],
      "text/plain": [
       "   Survived  Pclass   Age  SibSp  Parch     Fare  Sex_male  Embarked_Q  \\\n",
       "0         0       3  22.0      1      0    7.250         1           0   \n",
       "1         1       1  38.0      1      0  712.833         0           0   \n",
       "2         1       3  26.0      0      0    7.925         0           0   \n",
       "3         1       1  35.0      1      0   53.100         0           0   \n",
       "4         0       3  35.0      0      0    8.050         1           0   \n",
       "\n",
       "   Embarked_S  \n",
       "0           1  \n",
       "1           0  \n",
       "2           1  \n",
       "3           1  \n",
       "4           1  "
      ]
     },
     "execution_count": 5,
     "metadata": {},
     "output_type": "execute_result"
    }
   ],
   "source": [
    "df.head()"
   ]
  },
  {
   "cell_type": "code",
   "execution_count": 6,
   "metadata": {},
   "outputs": [
    {
     "data": {
      "text/plain": [
       "count    714.000000\n",
       "mean      29.699118\n",
       "std       14.526497\n",
       "min        0.420000\n",
       "25%       20.125000\n",
       "50%       28.000000\n",
       "75%       38.000000\n",
       "max       80.000000\n",
       "Name: Age, dtype: float64"
      ]
     },
     "execution_count": 6,
     "metadata": {},
     "output_type": "execute_result"
    }
   ],
   "source": [
    "df.Age.describe()"
   ]
  },
  {
   "cell_type": "code",
   "execution_count": 7,
   "metadata": {},
   "outputs": [],
   "source": [
    "def fillAge(age):\n",
    "    if pd.isna(age):\n",
    "        return np.random.randint(int(df.Age.quantile(0.25)), int(df.Age.quantile(0.75)))\n",
    "    return age\n",
    "\n",
    "df.Age = df.Age.apply(fillAge)"
   ]
  },
  {
   "cell_type": "code",
   "execution_count": 8,
   "metadata": {},
   "outputs": [],
   "source": [
    "X = df.drop(\"Survived\", axis = 1)\n",
    "y = df[\"Survived\"]"
   ]
  },
  {
   "cell_type": "code",
   "execution_count": 9,
   "metadata": {},
   "outputs": [],
   "source": [
    "X_train, X_test, y_train, y_test = train_test_split(X, y, test_size = 0.1, random_state=42)"
   ]
  },
  {
   "cell_type": "code",
   "execution_count": 10,
   "metadata": {},
   "outputs": [],
   "source": [
    "X_train_copy = X_train.copy()\n",
    "X_train[\"Pclass\"] = X_train[\"Pclass\"] / 3\n",
    "X_train[\"Age\"] = (X_train[\"Age\"] - X_train[\"Age\"].min()) /  (X_train[\"Age\"].max() - X_train[\"Age\"].min())\n",
    "X_train[\"SibSp\"] = (X_train[\"SibSp\"] - X_train[\"SibSp\"].min()) /  (X_train[\"SibSp\"].max() - X_train[\"SibSp\"].min())\n",
    "X_train[\"Parch\"] = (X_train[\"Parch\"] - X_train[\"Parch\"].min()) /  (X_train[\"Parch\"].max() - X_train[\"Parch\"].min())\n",
    "X_train[\"Fare\"] = (X_train[\"Fare\"] - X_train[\"Fare\"].min()) /  (X_train[\"Fare\"].max() - X_train[\"Fare\"].min())"
   ]
  },
  {
   "cell_type": "code",
   "execution_count": 11,
   "metadata": {},
   "outputs": [],
   "source": [
    "class MyLogisticRegression:\n",
    "    \n",
    "    def __init__(self, rate = 0.1, iterations = 10000):\n",
    "        self.__w = np.array([])\n",
    "        self.__rate = rate\n",
    "        self.__iterations = iterations\n",
    "        self.costH = []\n",
    "        \n",
    "    def __cost (self, Y, h):\n",
    "        return (-Y * np.log(h) - (1 - Y) * np.log(1 - h)).mean()\n",
    "    \n",
    "    def __sigmoid(self, z):\n",
    "        return 1 / (1 + e ** -z)\n",
    "    \n",
    "    def coefs(self):\n",
    "        return self.__w\n",
    "        \n",
    "    def fit(self, X, y):\n",
    "        self.__w = np.zeros((len(X[0])))\n",
    "        for i in range(self.__iterations):\n",
    "            z = np.dot(X, self.__w)\n",
    "            h = self.__sigmoid(z)\n",
    "            diff = (h - y)\n",
    "            g = np.dot(X.T, diff) / len(y)\n",
    "            self.__w = self.__w - self.__rate * g\n",
    "            \n",
    "            cost = self.__cost(y, h)\n",
    "            self.costH.append(cost)\n",
    "            \n",
    "            if i % 1000 == 0:\n",
    "                print(\"iteration :\", i)\n",
    "                print(cost)\n",
    "                print()\n",
    "    \n",
    "    def predict(self, X):\n",
    "        val = np.dot(X, self.__w)\n",
    "        p = self.__sigmoid(val)\n",
    "        \n",
    "        p[ p >= 0.5 ] = 1\n",
    "        p[ p < 0.5] = 0\n",
    "        \n",
    "        return p\n",
    "            "
   ]
  },
  {
   "cell_type": "code",
   "execution_count": 12,
   "metadata": {},
   "outputs": [],
   "source": [
    "training_inputs = [[1] for i in range(len(y_train))]\n",
    "for i in range(len(training_inputs)):\n",
    "    training_inputs[i].extend(X_train.to_numpy()[i])\n",
    "\n",
    "training_inputs = np.array(training_inputs)\n",
    "\n",
    "outputs = np.array(y_train)"
   ]
  },
  {
   "cell_type": "code",
   "execution_count": 13,
   "metadata": {},
   "outputs": [],
   "source": [
    "myModel = MyLogisticRegression()"
   ]
  },
  {
   "cell_type": "code",
   "execution_count": 14,
   "metadata": {},
   "outputs": [
    {
     "name": "stdout",
     "output_type": "stream",
     "text": [
      "iteration : 0\n",
      "0.6931471805599451\n",
      "\n",
      "iteration : 1000\n",
      "0.48062776604243196\n",
      "\n",
      "iteration : 2000\n",
      "0.46600546587945935\n",
      "\n",
      "iteration : 3000\n",
      "0.4595518373726254\n",
      "\n",
      "iteration : 4000\n",
      "0.4558588970583633\n",
      "\n",
      "iteration : 5000\n",
      "0.45355772759172197\n",
      "\n",
      "iteration : 6000\n",
      "0.45207219508539936\n",
      "\n",
      "iteration : 7000\n",
      "0.45109249243973715\n",
      "\n",
      "iteration : 8000\n",
      "0.45043549866773014\n",
      "\n",
      "iteration : 9000\n",
      "0.4499884177866459\n",
      "\n"
     ]
    }
   ],
   "source": [
    "myModel.fit(training_inputs, outputs)"
   ]
  },
  {
   "cell_type": "code",
   "execution_count": 15,
   "metadata": {},
   "outputs": [
    {
     "data": {
      "text/plain": [
       "[<matplotlib.lines.Line2D at 0x1b77746b380>]"
      ]
     },
     "execution_count": 15,
     "metadata": {},
     "output_type": "execute_result"
    },
    {
     "data": {
      "image/png": "[encoded data removed]",
      "text/plain": [
       "<Figure size 640x480 with 1 Axes>"
      ]
     },
     "metadata": {},
     "output_type": "display_data"
    }
   ],
   "source": [
    "plt.plot(myModel.costH)"
   ]
  },
  {
   "cell_type": "code",
   "execution_count": 16,
   "metadata": {},
   "outputs": [],
   "source": [
    "X_test[\"Pclass\"] = X_test[\"Pclass\"] / 3\n",
    "X_test[\"Age\"] = (X_test[\"Age\"] - X_train_copy[\"Age\"].min()) /  (X_train_copy[\"Age\"].max() - X_train_copy[\"Age\"].min())\n",
    "X_test[\"SibSp\"] = (X_test[\"SibSp\"] - X_train_copy[\"SibSp\"].min()) /  (X_train_copy[\"SibSp\"].max() - X_train_copy[\"SibSp\"].min())\n",
    "X_test[\"Parch\"] = (X_test[\"Parch\"] - X_train_copy[\"Parch\"].min()) /  (X_train_copy[\"Parch\"].max() - X_train_copy[\"Parch\"].min())\n",
    "X_test[\"Fare\"] = (X_test[\"Fare\"] - X_train_copy[\"Fare\"].min()) /  (X_train_copy[\"Fare\"].max() - X_train_copy[\"Fare\"].min())"
   ]
  },
  {
   "cell_type": "code",
   "execution_count": 17,
   "metadata": {},
   "outputs": [],
   "source": [
    "test_inputs = [[1] for i in range(len(y_test))]\n",
    "for i in range(len(test_inputs)):\n",
    "    test_inputs[i].extend(X_test.to_numpy()[i])\n",
    "\n",
    "test_inputs = np.array(test_inputs)\n"
   ]
  },
  {
   "cell_type": "code",
   "execution_count": 18,
   "metadata": {},
   "outputs": [],
   "source": [
    "my_predictions = myModel.predict(test_inputs)"
   ]
  },
  {
   "cell_type": "code",
   "execution_count": 19,
   "metadata": {},
   "outputs": [],
   "source": [
    "y_test = list(y_test)\n",
    "right = 0\n",
    "for i in range(len(y_test)):\n",
    "    # print(f\"Prediction : {int(my_predictions[i])}, expected : {y_test[i]}\")\n",
    "    if int(my_predictions[i]) == y_test[i]:\n",
    "        right += 1\n",
    "    \n",
    "my_acc = right / len(y_test)"
   ]
  },
  {
   "cell_type": "code",
   "execution_count": 20,
   "metadata": {},
   "outputs": [],
   "source": [
    "model = LogisticRegression()\n",
    "model.fit(X_train, y_train)\n",
    "model_predictions = model.predict(X_test)"
   ]
  },
  {
   "cell_type": "code",
   "execution_count": 21,
   "metadata": {},
   "outputs": [],
   "source": [
    "right = 0\n",
    "for i in range(len(y_test)):\n",
    "    # print(f\"Prediction : {int(model_predictions[i])}, expected : {y_test[i]}\")\n",
    "    if int(model_predictions[i]) == y_test[i]:\n",
    "        right += 1\n",
    "model_acc = right / len(y_test)"
   ]
  },
  {
   "cell_type": "code",
   "execution_count": 22,
   "metadata": {},
   "outputs": [
    {
     "name": "stdout",
     "output_type": "stream",
     "text": [
      "My accuracy is : 82%, Model accuracy is 82%\n"
     ]
    }
   ],
   "source": [
    "print(f\"My accuracy is : {int(my_acc * 100)}%, Model accuracy is {int(model_acc * 100)}%\")"
   ]
  }
 ],
 "metadata": {
  "kernelspec": {
   "display_name": "Python 3",
   "language": "python",
   "name": "python3"
  },
  "language_info": {
   "codemirror_mode": {
    "name": "ipython",
    "version": 3
   },
   "file_extension": ".py",
   "mimetype": "text/x-python",
   "name": "python",
   "nbconvert_exporter": "python",
   "pygments_lexer": "ipython3",
   "version": "undefined.undefined.undefined"
  }
 },
 "nbformat": 4,
 "nbformat_minor": 2
}
