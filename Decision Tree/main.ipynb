{
 "cells": [
  {
   "cell_type": "code",
   "execution_count": 24,
   "metadata": {},
   "outputs": [],
   "source": [
    "import numpy as np\n",
    "from math import log2\n",
    "import pandas as pd"
   ]
  },
  {
   "cell_type": "code",
   "execution_count": 25,
   "metadata": {},
   "outputs": [],
   "source": [
    "def Gini(y):\n",
    "    classes, counts = np.unique(y, return_counts=True)\n",
    "    impurity = 1.0\n",
    "    for count in counts:\n",
    "        prob = count / len(y)\n",
    "        impurity -= prob ** 2\n",
    "    return impurity\n",
    "\n",
    "\n",
    "def Entropy(y):\n",
    "    classes, counts = np.unique(y, return_counts=True)\n",
    "    entropy = 0.0\n",
    "    for count in counts:\n",
    "        prob = count / len(y)\n",
    "        entropy -= prob * np.log2(prob)\n",
    "    return entropy"
   ]
  },
  {
   "cell_type": "code",
   "execution_count": 32,
   "metadata": {},
   "outputs": [],
   "source": [
    "class Node:\n",
    "    def __init__(self, criterionValue, samples, value, featureIndex=None, threshold=None, left=None, right=None):\n",
    "        self.criterionValue = criterionValue\n",
    "        self.samples = samples\n",
    "        self.value = value\n",
    "        self.featureIndex = featureIndex\n",
    "        self.threshold = threshold\n",
    "        self.left = left\n",
    "        self.right = right"
   ]
  },
  {
   "cell_type": "code",
   "execution_count": 26,
   "metadata": {},
   "outputs": [],
   "source": [
    "class DecisionTreeClassifier:\n",
    "    def __init__(self, criterion=\"gini\", maxDepth=None, minSamplesSplit=2):\n",
    "        self.criterion = criterion\n",
    "        self.maxDepth = maxDepth\n",
    "        self.minSamplesSplit = minSamplesSplit\n",
    "        self.tree = None\n",
    "\n",
    "    def CriterionFunction(self, y):\n",
    "        if self.criterion == \"gini\":\n",
    "            return Gini(y)\n",
    "        elif self.criterion == \"entropy\":\n",
    "            return Entropy(y)\n",
    "        else:\n",
    "            raise ValueError(\"Unknown criterion: '{}'\".format(self.criterion))\n",
    "\n",
    "    def SplitDataset(self, X, y, featureIndex, threshold):\n",
    "        leftMask = X[:, featureIndex] <= threshold\n",
    "        rightMask = X[:, featureIndex] > threshold\n",
    "        return X[leftMask], X[rightMask], y[leftMask], y[rightMask]\n",
    "\n",
    "    def BestSplit(self, X, y):\n",
    "        bestCriterionValue = float('inf')\n",
    "        bestIndex = None\n",
    "        bestThreshold = None\n",
    "        \n",
    "        for featureIndex in range(X.shape[1]):\n",
    "            thresholds = np.unique(X[:, featureIndex])\n",
    "            for threshold in thresholds:\n",
    "                X_left, X_right, y_left, y_right = self.SplitDataset(X, y, featureIndex, threshold)\n",
    "                if len(y_left) == 0 or len(y_right) == 0:\n",
    "                    continue\n",
    "                \n",
    "                criterionLeft = self.CriterionFunction(y_left)\n",
    "                criterionRight = self.CriterionFunction(y_right)\n",
    "                criterionSplit = (len(y_left) * criterionLeft + len(y_right) * criterionRight) / len(y)\n",
    "                \n",
    "                if criterionSplit < bestCriterionValue:\n",
    "                    bestCriterionValue = criterionSplit\n",
    "                    bestIndex = featureIndex\n",
    "                    bestThreshold = threshold\n",
    "                    \n",
    "        return bestIndex, bestThreshold\n",
    "\n",
    "    def BuildTree(self, X, y, depth=0):\n",
    "        numSamples = len(y)\n",
    "        numClasses = len(np.unique(y))\n",
    "        \n",
    "        if depth == self.maxDepth or numSamples < self.minSamplesSplit or numClasses == 1:\n",
    "            leafValue = np.bincount(y).argmax()\n",
    "            return Node(criterionValue=self.CriterionFunction(y), samples=numSamples, value=leafValue)\n",
    "        \n",
    "        featureIndex, threshold = self.BestSplit(X, y)\n",
    "        if featureIndex is None:\n",
    "            leafValue = np.bincount(y).argmax()\n",
    "            return Node(criterionValue=self.CriterionFunction(y), samples=numSamples, value=leafValue)\n",
    "        \n",
    "        X_left, X_right, y_left, y_right = self.SplitDataset(X, y, featureIndex, threshold)\n",
    "        leftNode = self.BuildTree(X_left, y_left, depth + 1)\n",
    "        rightNode = self.BuildTree(X_right, y_right, depth + 1)\n",
    "        return Node(criterionValue=self.CriterionFunction(y), samples=numSamples, value=None, \n",
    "                    featureIndex=featureIndex, threshold=threshold, \n",
    "                    left=leftNode, right=rightNode)\n",
    "\n",
    "    def Fit(self, X, y):\n",
    "        self.tree = self.BuildTree(X, y)\n",
    "\n",
    "    def PredictTree(self, node, x):\n",
    "        if node.value is not None:\n",
    "            return node.value\n",
    "        if x[node.featureIndex] <= node.threshold:\n",
    "            return self.PredictTree(node.left, x)\n",
    "        else:\n",
    "            return self.PredictTree(node.right, x)\n",
    "\n",
    "    def Predict(self, X):\n",
    "        return [self.PredictTree(self.tree, x) for x in X]\n",
    "\n",
    "    def PrintTree(self, node=None, depth=0):\n",
    "        if node is None:\n",
    "            node = self.tree\n",
    "        \n",
    "        if node.value is not None:\n",
    "            print(f\"{'|  ' * depth}-- Leaf: Class={node.value} (Samples={node.samples}, {self.criterion.capitalize()}={node.criterionValue:.3f})\")\n",
    "        else:\n",
    "            print(f\"{'|  ' * depth}-- Node: FeatureIndex={node.featureIndex}, Threshold={node.threshold:.3f} (Samples={node.samples}, {self.criterion.capitalize()}={node.criterionValue:.3f})\")\n",
    "            print(f\"{'|  ' * (depth + 1)}Left:\")\n",
    "            self.PrintTree(node.left, depth + 1)\n",
    "            print(f\"{'|  ' * (depth + 1)}Right:\")\n",
    "            self.PrintTree(node.right, depth + 1)"
   ]
  },
  {
   "cell_type": "code",
   "execution_count": 28,
   "metadata": {},
   "outputs": [
    {
     "data": {
      "text/html": [
       "<div>\n",
       "<style scoped>\n",
       "    .dataframe tbody tr th:only-of-type {\n",
       "        vertical-align: middle;\n",
       "    }\n",
       "\n",
       "    .dataframe tbody tr th {\n",
       "        vertical-align: top;\n",
       "    }\n",
       "\n",
       "    .dataframe thead th {\n",
       "        text-align: right;\n",
       "    }\n",
       "</style>\n",
       "<table border=\"1\" class=\"dataframe\">\n",
       "  <thead>\n",
       "    <tr style=\"text-align: right;\">\n",
       "      <th></th>\n",
       "      <th>exam_1</th>\n",
       "      <th>exam_2</th>\n",
       "      <th>admitted</th>\n",
       "    </tr>\n",
       "  </thead>\n",
       "  <tbody>\n",
       "    <tr>\n",
       "      <th>0</th>\n",
       "      <td>34.623660</td>\n",
       "      <td>78.024693</td>\n",
       "      <td>0</td>\n",
       "    </tr>\n",
       "    <tr>\n",
       "      <th>1</th>\n",
       "      <td>30.286711</td>\n",
       "      <td>43.894998</td>\n",
       "      <td>0</td>\n",
       "    </tr>\n",
       "    <tr>\n",
       "      <th>2</th>\n",
       "      <td>35.847409</td>\n",
       "      <td>72.902198</td>\n",
       "      <td>0</td>\n",
       "    </tr>\n",
       "    <tr>\n",
       "      <th>3</th>\n",
       "      <td>60.182599</td>\n",
       "      <td>86.308552</td>\n",
       "      <td>1</td>\n",
       "    </tr>\n",
       "    <tr>\n",
       "      <th>4</th>\n",
       "      <td>79.032736</td>\n",
       "      <td>75.344376</td>\n",
       "      <td>1</td>\n",
       "    </tr>\n",
       "  </tbody>\n",
       "</table>\n",
       "</div>"
      ],
      "text/plain": [
       "      exam_1     exam_2  admitted\n",
       "0  34.623660  78.024693         0\n",
       "1  30.286711  43.894998         0\n",
       "2  35.847409  72.902198         0\n",
       "3  60.182599  86.308552         1\n",
       "4  79.032736  75.344376         1"
      ]
     },
     "execution_count": 28,
     "metadata": {},
     "output_type": "execute_result"
    }
   ],
   "source": [
    "df = pd.read_csv(\"./Data/exams.csv\")\n",
    "df.head()"
   ]
  },
  {
   "cell_type": "code",
   "execution_count": 29,
   "metadata": {},
   "outputs": [],
   "source": [
    "X = df.drop(\"admitted\", axis = 1).to_numpy()\n",
    "y = df.admitted.to_numpy()"
   ]
  },
  {
   "cell_type": "code",
   "execution_count": 30,
   "metadata": {},
   "outputs": [
    {
     "data": {
      "text/plain": [
       "(100,)"
      ]
     },
     "execution_count": 30,
     "metadata": {},
     "output_type": "execute_result"
    }
   ],
   "source": [
    "X.shape\n",
    "y.shape"
   ]
  },
  {
   "cell_type": "code",
   "execution_count": 31,
   "metadata": {},
   "outputs": [
    {
     "name": "stdout",
     "output_type": "stream",
     "text": [
      "Predictions: [0, 0, 0, 1, 1, 0, 1, 1, 1, 1, 0, 0, 1, 1, 0, 1, 1, 1, 1, 1, 0, 1, 0, 0, 1, 1, 1, 0, 1, 0, 1, 1, 0, 1, 0, 0, 0, 1, 0, 0, 1, 0, 1, 0, 0, 1, 1, 1, 1, 1, 1, 1, 1, 0, 0, 0, 1, 0, 1, 1, 1, 0, 0, 0, 1, 0, 1, 0, 1, 1, 0, 1, 1, 1, 1, 1, 1, 1, 0, 0, 1, 1, 1, 1, 1, 1, 1, 1, 1, 0, 1, 1, 0, 1, 1, 1, 1, 1, 1, 1]\n",
      "\n",
      "Decision Tree Structure:\n",
      "-- Node: FeatureIndex=0, Threshold=56.254 (Samples=100, Entropy=0.971)\n",
      "|  Left:\n",
      "|  -- Node: FeatureIndex=1, Threshold=63.128 (Samples=35, Entropy=0.722)\n",
      "|  |  Left:\n",
      "|  |  -- Leaf: Class=0 (Samples=18, Entropy=0.000)\n",
      "|  |  Right:\n",
      "|  |  -- Node: FeatureIndex=0, Threshold=40.237 (Samples=17, Entropy=0.977)\n",
      "|  |  |  Left:\n",
      "|  |  |  -- Leaf: Class=0 (Samples=8, Entropy=0.000)\n",
      "|  |  |  Right:\n",
      "|  |  |  -- Leaf: Class=1 (Samples=9, Entropy=0.764)\n",
      "|  Right:\n",
      "|  -- Node: FeatureIndex=1, Threshold=42.838 (Samples=65, Entropy=0.690)\n",
      "|  |  Left:\n",
      "|  |  -- Leaf: Class=0 (Samples=9, Entropy=0.000)\n",
      "|  |  Right:\n",
      "|  |  -- Node: FeatureIndex=1, Threshold=52.061 (Samples=56, Entropy=0.301)\n",
      "|  |  |  Left:\n",
      "|  |  |  -- Leaf: Class=1 (Samples=11, Entropy=0.845)\n",
      "|  |  |  Right:\n",
      "|  |  |  -- Leaf: Class=1 (Samples=45, Entropy=0.000)\n"
     ]
    }
   ],
   "source": [
    "classifier = DecisionTreeClassifier(criterion=\"entropy\", maxDepth=3)\n",
    "classifier.Fit(X, y)\n",
    "\n",
    "# Make predictions\n",
    "predictions = classifier.Predict(X)\n",
    "print(\"Predictions:\", predictions)\n",
    "\n",
    "# Print the tree structure\n",
    "print(\"\\nDecision Tree Structure:\")\n",
    "classifier.PrintTree()"
   ]
  },
  {
   "cell_type": "code",
   "execution_count": null,
   "metadata": {},
   "outputs": [],
   "source": []
  }
 ],
 "metadata": {
  "kernelspec": {
   "display_name": "Python 3",
   "language": "python",
   "name": "python3"
  },
  "language_info": {
   "codemirror_mode": {
    "name": "ipython",
    "version": 3
   },
   "file_extension": ".py",
   "mimetype": "text/x-python",
   "name": "python",
   "nbconvert_exporter": "python",
   "pygments_lexer": "ipython3",
   "version": "3.11.9"
  }
 },
 "nbformat": 4,
 "nbformat_minor": 2
}
